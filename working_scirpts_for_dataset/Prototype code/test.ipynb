{
 "cells": [
  {
   "cell_type": "code",
   "execution_count": 1,
   "metadata": {},
   "outputs": [],
   "source": [
    "import mediapipe as mp\n",
    "from mediapipe.tasks import python\n",
    "from mediapipe.tasks.python import vision"
   ]
  },
  {
   "cell_type": "code",
   "execution_count": 2,
   "metadata": {},
   "outputs": [],
   "source": [
    "model_path = 'C:/Users/fkgde/Documents/PlatformIO/Projects/Internship 2023/hand_landmarker.task'"
   ]
  },
  {
   "cell_type": "code",
   "execution_count": 20,
   "metadata": {},
   "outputs": [
    {
     "name": "stdout",
     "output_type": "stream",
     "text": [
      "[0, 33, 66, 100, 133, 166, 200, 233, 266, 300, 333, 366, 400, 433, 466, 500, 533, 566, 600, 633, 666, 700, 733, 766, 800, 833, 866, 900, 933, 966, 1000, 1033, 1066, 1100, 1133, 1166, 1200, 1233, 1266, 1300, 1333, 1366, 1400, 1433, 1466, 1500, 1533, 1566, 1600, 1633, 1666, 1700, 1733, 1766, 1800, 1833, 1866, 1900, 1933, 1966, 2000, 2033, 2066, 2100, 2133, 2166, 2200, 2233, 2266, 2300, 2333, 2366, 2400, 2433, 2466, 2500, 2533, 2566, 2600, 2633, 2666, 2700, 2733, 2766, 2800, 2833, 2866, 2900, 2933, 2966, 3000, 3033, 3066, 3100, 3133, 3166, 3200, 3233, 3266, 3300, 3333, 3366, 3400, 3433, 3466, 3500, 3533, 3566, 3600, 3633, 3666, 3700, 3733, 3766, 3800, 3833, 3866, 3900, 3933, 3966, 4000, 4033, 4066, 4100, 4133, 4166, 4200, 4233, 4266, 4300, 4333, 4366, 4400, 4433, 4466, 4500, 4533, 4566, 4600, 4633, 4666, 4700, 4733, 4766, 4800, 4833, 4866, 4900, 4933, 4966, 5000, 5033, 5066, 5100, 5133, 5166, 5200, 5233, 5266, 5300, 5333, 5366, 5400, 5433, 5466, 5500, 5533, 5566, 5600, 5633, 5666, 5700, 5733, 5766, 5800, 5833, 5866, 5900, 5933, 5966, 6000, 6033, 6066, 6100, 6133, 6166, 6200, 6233, 6266, 6300]\n"
     ]
    }
   ],
   "source": [
    "import cv2\n",
    "import mediapipe as mp\n",
    "import numpy as np\n",
    "\n",
    "BaseOptions = mp.tasks.BaseOptions\n",
    "HandLandmarker = mp.tasks.vision.HandLandmarker\n",
    "HandLandmarkerOptions = mp.tasks.vision.HandLandmarkerOptions\n",
    "VisionRunningMode = mp.tasks.vision.RunningMode\n",
    "\n",
    "# Create a hand landmarker instance with the video mode:\n",
    "options = HandLandmarkerOptions(\n",
    "base_options=BaseOptions(model_asset_path=model_path),\n",
    "running_mode=VisionRunningMode.VIDEO)\n",
    "\n",
    "# Perform hand landmarks detection on the provided single image.\n",
    "# The hand landmarker must be created with the video mode.\n",
    "cap = cv2.VideoCapture(\"C:/Users/fkgde/Documents/PlatformIO/Projects/Internship 2023/output/official recordings/video/video mediapipe/20230802_134231.mp4\")\n",
    "\n",
    "# Check if camera opened successfully\n",
    "if not cap.isOpened(): \n",
    "    print(\"Error opening video file\")\n",
    "\n",
    "# Read until video is completed\n",
    "frames = []\n",
    "timestamps = []\n",
    "while(cap.isOpened()):\n",
    "\n",
    "    # Capture frame-by-frame\n",
    "    ret, frame = cap.read()\n",
    "    if ret == True:\n",
    "\n",
    "        # Append the frame to the frames list\n",
    "        frames.append(frame)\n",
    "        timestamps.append(int(cap.get(cv2.CAP_PROP_POS_MSEC)))\n",
    "    # Break the loop\n",
    "    else: \n",
    "        break\n",
    "\n",
    "# Convert list of frames into a NumPy array\n",
    "video_as_np_array = np.array(frames)\n",
    "# print(len(video_as_np_array))   \n",
    "cap.release()\n",
    "print(timestamps)"
   ]
  },
  {
   "cell_type": "code",
   "execution_count": 21,
   "metadata": {},
   "outputs": [
    {
     "name": "stdout",
     "output_type": "stream",
     "text": [
      "HandLandmarkerResult(handedness=[], hand_landmarks=[], hand_world_landmarks=[])\n"
     ]
    }
   ],
   "source": [
    "with HandLandmarker.create_from_options(options) as landmarker:\n",
    "    mp_image = mp.Image(image_format=mp.ImageFormat.SRGB, data=video_as_np_array)\n",
    "\n",
    "    for i in range(len(video_as_np_array)):\n",
    "        frame_timestamp_ms = int((i / 30) * 1000)\n",
    "        # frame_timestamp_ms = timestamps[i]\n",
    "        hand_landmarker_result = landmarker.detect_for_video(mp_image[:,:,:,i], frame_timestamp_ms)\n",
    "\n",
    "    print(hand_landmarker_result)\n",
    "\n",
    "        # hand_landmarker_result = landmarker.detect_for_video(mp_image, frame_timestamp_ms)"
   ]
  },
  {
   "cell_type": "code",
   "execution_count": 1,
   "metadata": {},
   "outputs": [
    {
     "ename": "NameError",
     "evalue": "name 'video_as_np_array' is not defined",
     "output_type": "error",
     "traceback": [
      "\u001b[1;31m---------------------------------------------------------------------------\u001b[0m",
      "\u001b[1;31mNameError\u001b[0m                                 Traceback (most recent call last)",
      "Cell \u001b[1;32mIn[1], line 1\u001b[0m\n\u001b[1;32m----> 1\u001b[0m \u001b[39mprint\u001b[39m(video_as_np_array)\n",
      "\u001b[1;31mNameError\u001b[0m: name 'video_as_np_array' is not defined"
     ]
    }
   ],
   "source": [
    "print(video_as_np_array)"
   ]
  }
 ],
 "metadata": {
  "kernelspec": {
   "display_name": "Python 3",
   "language": "python",
   "name": "python3"
  },
  "language_info": {
   "codemirror_mode": {
    "name": "ipython",
    "version": 3
   },
   "file_extension": ".py",
   "mimetype": "text/x-python",
   "name": "python",
   "nbconvert_exporter": "python",
   "pygments_lexer": "ipython3",
   "version": "3.8.2"
  },
  "orig_nbformat": 4
 },
 "nbformat": 4,
 "nbformat_minor": 2
}
